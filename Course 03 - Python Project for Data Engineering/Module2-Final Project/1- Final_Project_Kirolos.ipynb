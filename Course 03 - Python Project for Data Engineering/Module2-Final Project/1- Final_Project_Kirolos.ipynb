{
 "cells": [
  {
   "cell_type": "markdown",
   "metadata": {},
   "source": [
    "<p style=\"text-align:center\">\n",
    "    <a href=\"https://skills.network/?utm_medium=Exinfluencer&utm_source=Exinfluencer&utm_content=000026UJ&utm_term=10006555&utm_id=NA-SkillsNetwork-Channel-SkillsNetworkCoursesIBMDeveloperSkillsNetworkPY0221ENSkillsNetwork23455645-2022-01-01\" target=\"_blank\">\n",
    "    <img src=\"https://cf-courses-data.s3.us.cloud-object-storage.appdomain.cloud/assets/logos/SN_web_lightmode.png\" width=\"200\" alt=\"Skills Network Logo\"  />\n",
    "    </a>\n",
    "</p>\n"
   ]
  },
  {
   "cell_type": "markdown",
   "metadata": {},
   "source": [
    "# Acquiring and Processing Information on the World's Largest Banks"
   ]
  },
  {
   "cell_type": "markdown",
   "metadata": {},
   "source": [
    "Estimated time needed: **60** minutes\n"
   ]
  },
  {
   "cell_type": "markdown",
   "metadata": {},
   "source": [
    "## Project Scenario:\n",
    "\n",
    "You have been hired as a data engineer by research organization. Your boss has asked you to create a code that can be used to compile the list of the top 10 largest banks in the world ranked by market capitalization in billion USD. Further, the data needs to be transformed and stored in GBP, EUR and INR as well, in accordance with the exchange rate information that has been made available to you as a CSV file. The processed information table is to be saved locally in a CSV format and as a database table.\n",
    "\n",
    "Your job is to create an automated system to generate this information so that the same can be executed in every financial quarter to prepare the report.\n"
   ]
  },
  {
   "cell_type": "markdown",
   "metadata": {},
   "source": [
    "## Imports\n",
    "\n",
    "Import libraries needed here.\n"
   ]
  },
  {
   "cell_type": "code",
   "execution_count": 1,
   "metadata": {},
   "outputs": [],
   "source": [
    "import requests\n",
    "import sqlite3\n",
    "import pandas as pd\n",
    "from bs4 import BeautifulSoup\n",
    "from datetime import datetime"
   ]
  },
  {
   "cell_type": "markdown",
   "metadata": {},
   "source": [
    "## Project tasks\n",
    "\n",
    "### **Task 1:**\n",
    "\n",
    "Write a function <code>log_progress()</code> to log the progress of the code at different stages in a file <code>code_log.txt</code>. Use the list of log points provided to create log entries as every stage of the code."
   ]
  },
  {
   "cell_type": "code",
   "execution_count": 2,
   "metadata": {},
   "outputs": [],
   "source": [
    "def log_progress(message):\n",
    "    ''' This function logs the mentioned message of a given stage of the\n",
    "    code execution to a log file.'''\n",
    "\n",
    "    timestamp_format = '%Y-%h-%d-%H:%M:%S' # Year-Monthname-Day-Hour-Minute-Second\n",
    "    now = datetime.now() # get current timestamp\n",
    "    timestamp = now.strftime(timestamp_format)\n",
    "    with open(\"code_log.txt\",\"a\") as f:\n",
    "        f.write(timestamp + ',' + message + '\\n')\n",
    "\n",
    "    print(timestamp + ', ' + message + '\\n')"
   ]
  },
  {
   "cell_type": "markdown",
   "metadata": {},
   "source": [
    "### **Task 2:**\n",
    "Extract the tabular information from the given URL under the heading 'By market capitalization' and save it to a dataframe.\n",
    "\n",
    "1. Inspect the webpage and identify the position and pattern of the tabular information in the HTML code.\n",
    "\n",
    "The URL and the column attributes as follow:\n"
   ]
  },
  {
   "cell_type": "code",
   "execution_count": 3,
   "metadata": {},
   "outputs": [],
   "source": [
    "url = 'https://web.archive.org/web/20230908091635 /https://en.wikipedia.org/wiki/List_of_largest_banks'\n",
    "ex_path = 'C:\\\\Users\\kyoss\\Desktop\\COURSERA\\IBM DATA ENGINEERING PROFESSIONAL\\Course 03 - Python Project for Data Engineering\\exchange_rate.csv'\n",
    "output_path = 'c:\\\\Users\\\\kyoss\\\\Desktop\\\\COURSERA\\\\IBM DATA ENGINEERING PROFESSIONAL\\\\Course 03 - Python Project for Data Engineering/Largest_banks_data.csv'\n",
    "db_name = 'Banks.db'\n",
    "table_name = 'Largest_banks'\n",
    "conn = sqlite3.connect(db_name)\n",
    "table_attribs = [\"Name\",\"MC_USD_Billion\"]\n",
    "df_final = pd.DataFrame(columns=table_attribs)"
   ]
  },
  {
   "cell_type": "markdown",
   "metadata": {},
   "source": [
    "2. Write the code for a function <code>extract()</code> to perform the required data extraction."
   ]
  },
  {
   "cell_type": "code",
   "execution_count": 4,
   "metadata": {},
   "outputs": [],
   "source": [
    "def extract(url, table_attribs):\n",
    "    ''' This function aims to extract the required\n",
    "    information from the website and save it to a data frame. The\n",
    "    function returns the data frame for further processing. '''\n",
    "\n",
    "    # Loading the webpage for webscraping\n",
    "    html_page = requests.get(url).text\n",
    "    data = BeautifulSoup(html_page, 'html.parser')\n",
    "\n",
    "    # Scraping for required info\n",
    "    tables = data.find_all('tbody')\n",
    "    rows = tables[0].find_all('tr')\n",
    "\n",
    "    df = pd.DataFrame(columns=table_attribs)\n",
    "\n",
    "    for row in rows:\n",
    "        col = row.find_all('td')\n",
    "        if len(col)!=0:\n",
    "            data_dict = {table_attribs[0]:col[1].text.strip(),\n",
    "                         table_attribs[1]:float(col[2].text.strip())}\n",
    "            df1 = pd.DataFrame(data_dict, index = [0])\n",
    "            if df.empty:\n",
    "                df=df1                \n",
    "            else:\n",
    "                df = pd.concat([df,df1], ignore_index = True)\n",
    "\n",
    "    return df"
   ]
  },
  {
   "cell_type": "markdown",
   "metadata": {},
   "source": [
    "3. Execute a function call to <code>extract()</code> to verify the output."
   ]
  },
  {
   "cell_type": "code",
   "execution_count": 5,
   "metadata": {},
   "outputs": [
    {
     "data": {
      "text/html": [
       "<div>\n",
       "<style scoped>\n",
       "    .dataframe tbody tr th:only-of-type {\n",
       "        vertical-align: middle;\n",
       "    }\n",
       "\n",
       "    .dataframe tbody tr th {\n",
       "        vertical-align: top;\n",
       "    }\n",
       "\n",
       "    .dataframe thead th {\n",
       "        text-align: right;\n",
       "    }\n",
       "</style>\n",
       "<table border=\"1\" class=\"dataframe\">\n",
       "  <thead>\n",
       "    <tr style=\"text-align: right;\">\n",
       "      <th></th>\n",
       "      <th>Name</th>\n",
       "      <th>MC_USD_Billion</th>\n",
       "    </tr>\n",
       "  </thead>\n",
       "  <tbody>\n",
       "    <tr>\n",
       "      <th>0</th>\n",
       "      <td>JPMorgan Chase</td>\n",
       "      <td>432.92</td>\n",
       "    </tr>\n",
       "    <tr>\n",
       "      <th>1</th>\n",
       "      <td>Bank of America</td>\n",
       "      <td>231.52</td>\n",
       "    </tr>\n",
       "    <tr>\n",
       "      <th>2</th>\n",
       "      <td>Industrial and Commercial Bank of China</td>\n",
       "      <td>194.56</td>\n",
       "    </tr>\n",
       "    <tr>\n",
       "      <th>3</th>\n",
       "      <td>Agricultural Bank of China</td>\n",
       "      <td>160.68</td>\n",
       "    </tr>\n",
       "    <tr>\n",
       "      <th>4</th>\n",
       "      <td>HDFC Bank</td>\n",
       "      <td>157.91</td>\n",
       "    </tr>\n",
       "    <tr>\n",
       "      <th>5</th>\n",
       "      <td>Wells Fargo</td>\n",
       "      <td>155.87</td>\n",
       "    </tr>\n",
       "    <tr>\n",
       "      <th>6</th>\n",
       "      <td>HSBC Holdings PLC</td>\n",
       "      <td>148.90</td>\n",
       "    </tr>\n",
       "    <tr>\n",
       "      <th>7</th>\n",
       "      <td>Morgan Stanley</td>\n",
       "      <td>140.83</td>\n",
       "    </tr>\n",
       "    <tr>\n",
       "      <th>8</th>\n",
       "      <td>China Construction Bank</td>\n",
       "      <td>139.82</td>\n",
       "    </tr>\n",
       "    <tr>\n",
       "      <th>9</th>\n",
       "      <td>Bank of China</td>\n",
       "      <td>136.81</td>\n",
       "    </tr>\n",
       "  </tbody>\n",
       "</table>\n",
       "</div>"
      ],
      "text/plain": [
       "                                      Name  MC_USD_Billion\n",
       "0                           JPMorgan Chase          432.92\n",
       "1                          Bank of America          231.52\n",
       "2  Industrial and Commercial Bank of China          194.56\n",
       "3               Agricultural Bank of China          160.68\n",
       "4                                HDFC Bank          157.91\n",
       "5                              Wells Fargo          155.87\n",
       "6                        HSBC Holdings PLC          148.90\n",
       "7                           Morgan Stanley          140.83\n",
       "8                  China Construction Bank          139.82\n",
       "9                            Bank of China          136.81"
      ]
     },
     "execution_count": 5,
     "metadata": {},
     "output_type": "execute_result"
    }
   ],
   "source": [
    "df = extract(url, table_attribs)\n",
    "df"
   ]
  },
  {
   "cell_type": "markdown",
   "metadata": {},
   "source": [
    "### **Task 3:**\n",
    "\n",
    "Transform the dataframe by adding columns for Market Capitalization in GBP, EUR and INR, rounded to 2 decimal places, based on the exchange rate information shared as a CSV file.\n",
    "1. Write the code for a function <code>transform()</code> to perform the said task."
   ]
  },
  {
   "cell_type": "code",
   "execution_count": 6,
   "metadata": {},
   "outputs": [],
   "source": [
    "def transform(df, csv_path):\n",
    "    ''' This function accesses the CSV file for exchange rate\n",
    "    information, and adds three columns to the data frame, each\n",
    "    containing the transformed version of Market Cap column to\n",
    "    respective currencies'''\n",
    "\n",
    "    # extract the exchange rate.csv file\n",
    "    ex_df = pd.read_csv(ex_path, index_col=0)\n",
    "\n",
    "\n",
    "    # create bew columns MC_GBP_Billion, MC_EUR_Billion, MC_INR_Billion\n",
    "    df['MC_GBP_Billion'] = round(df['MC_USD_Billion'] * ex_df.loc['GBP','Rate'],2)\n",
    "    df['MC_EUR_Billion'] = round(df['MC_USD_Billion'] * ex_df.loc['EUR','Rate'],2)\n",
    "    df['MC_INR_Billion'] = round(df['MC_USD_Billion'] * ex_df.loc['INR','Rate'],2)\n",
    "    return df\n",
    "\n"
   ]
  },
  {
   "cell_type": "markdown",
   "metadata": {},
   "source": [
    "2. Execute a function call to <code>transform()</code> and verify the output."
   ]
  },
  {
   "cell_type": "code",
   "execution_count": 7,
   "metadata": {},
   "outputs": [
    {
     "data": {
      "text/html": [
       "<div>\n",
       "<style scoped>\n",
       "    .dataframe tbody tr th:only-of-type {\n",
       "        vertical-align: middle;\n",
       "    }\n",
       "\n",
       "    .dataframe tbody tr th {\n",
       "        vertical-align: top;\n",
       "    }\n",
       "\n",
       "    .dataframe thead th {\n",
       "        text-align: right;\n",
       "    }\n",
       "</style>\n",
       "<table border=\"1\" class=\"dataframe\">\n",
       "  <thead>\n",
       "    <tr style=\"text-align: right;\">\n",
       "      <th></th>\n",
       "      <th>Name</th>\n",
       "      <th>MC_USD_Billion</th>\n",
       "      <th>MC_GBP_Billion</th>\n",
       "      <th>MC_EUR_Billion</th>\n",
       "      <th>MC_INR_Billion</th>\n",
       "    </tr>\n",
       "  </thead>\n",
       "  <tbody>\n",
       "    <tr>\n",
       "      <th>0</th>\n",
       "      <td>JPMorgan Chase</td>\n",
       "      <td>432.92</td>\n",
       "      <td>346.34</td>\n",
       "      <td>402.62</td>\n",
       "      <td>35910.71</td>\n",
       "    </tr>\n",
       "    <tr>\n",
       "      <th>1</th>\n",
       "      <td>Bank of America</td>\n",
       "      <td>231.52</td>\n",
       "      <td>185.22</td>\n",
       "      <td>215.31</td>\n",
       "      <td>19204.58</td>\n",
       "    </tr>\n",
       "    <tr>\n",
       "      <th>2</th>\n",
       "      <td>Industrial and Commercial Bank of China</td>\n",
       "      <td>194.56</td>\n",
       "      <td>155.65</td>\n",
       "      <td>180.94</td>\n",
       "      <td>16138.75</td>\n",
       "    </tr>\n",
       "    <tr>\n",
       "      <th>3</th>\n",
       "      <td>Agricultural Bank of China</td>\n",
       "      <td>160.68</td>\n",
       "      <td>128.54</td>\n",
       "      <td>149.43</td>\n",
       "      <td>13328.41</td>\n",
       "    </tr>\n",
       "    <tr>\n",
       "      <th>4</th>\n",
       "      <td>HDFC Bank</td>\n",
       "      <td>157.91</td>\n",
       "      <td>126.33</td>\n",
       "      <td>146.86</td>\n",
       "      <td>13098.63</td>\n",
       "    </tr>\n",
       "    <tr>\n",
       "      <th>5</th>\n",
       "      <td>Wells Fargo</td>\n",
       "      <td>155.87</td>\n",
       "      <td>124.70</td>\n",
       "      <td>144.96</td>\n",
       "      <td>12929.42</td>\n",
       "    </tr>\n",
       "    <tr>\n",
       "      <th>6</th>\n",
       "      <td>HSBC Holdings PLC</td>\n",
       "      <td>148.90</td>\n",
       "      <td>119.12</td>\n",
       "      <td>138.48</td>\n",
       "      <td>12351.26</td>\n",
       "    </tr>\n",
       "    <tr>\n",
       "      <th>7</th>\n",
       "      <td>Morgan Stanley</td>\n",
       "      <td>140.83</td>\n",
       "      <td>112.66</td>\n",
       "      <td>130.97</td>\n",
       "      <td>11681.85</td>\n",
       "    </tr>\n",
       "    <tr>\n",
       "      <th>8</th>\n",
       "      <td>China Construction Bank</td>\n",
       "      <td>139.82</td>\n",
       "      <td>111.86</td>\n",
       "      <td>130.03</td>\n",
       "      <td>11598.07</td>\n",
       "    </tr>\n",
       "    <tr>\n",
       "      <th>9</th>\n",
       "      <td>Bank of China</td>\n",
       "      <td>136.81</td>\n",
       "      <td>109.45</td>\n",
       "      <td>127.23</td>\n",
       "      <td>11348.39</td>\n",
       "    </tr>\n",
       "  </tbody>\n",
       "</table>\n",
       "</div>"
      ],
      "text/plain": [
       "                                      Name  MC_USD_Billion  MC_GBP_Billion  \\\n",
       "0                           JPMorgan Chase          432.92          346.34   \n",
       "1                          Bank of America          231.52          185.22   \n",
       "2  Industrial and Commercial Bank of China          194.56          155.65   \n",
       "3               Agricultural Bank of China          160.68          128.54   \n",
       "4                                HDFC Bank          157.91          126.33   \n",
       "5                              Wells Fargo          155.87          124.70   \n",
       "6                        HSBC Holdings PLC          148.90          119.12   \n",
       "7                           Morgan Stanley          140.83          112.66   \n",
       "8                  China Construction Bank          139.82          111.86   \n",
       "9                            Bank of China          136.81          109.45   \n",
       "\n",
       "   MC_EUR_Billion  MC_INR_Billion  \n",
       "0          402.62        35910.71  \n",
       "1          215.31        19204.58  \n",
       "2          180.94        16138.75  \n",
       "3          149.43        13328.41  \n",
       "4          146.86        13098.63  \n",
       "5          144.96        12929.42  \n",
       "6          138.48        12351.26  \n",
       "7          130.97        11681.85  \n",
       "8          130.03        11598.07  \n",
       "9          127.23        11348.39  "
      ]
     },
     "execution_count": 7,
     "metadata": {},
     "output_type": "execute_result"
    }
   ],
   "source": [
    "df1 = transform(df, ex_path)\n",
    "df1"
   ]
  },
  {
   "cell_type": "markdown",
   "metadata": {},
   "source": [
    "### **Task 4:**\n",
    "Load the transformed dataframe to an output CSV file. Write a function <code>load_to_csv()</code>, execute a function call and verify the output."
   ]
  },
  {
   "cell_type": "code",
   "execution_count": 8,
   "metadata": {},
   "outputs": [],
   "source": [
    "def load_to_csv(df, output_path):\n",
    "    ''' This function saves the final data frame as a CSV file in\n",
    "    the provided path. Function returns nothing.'''\n",
    "\n",
    "    df.to_csv(output_path)\n"
   ]
  },
  {
   "cell_type": "code",
   "execution_count": 9,
   "metadata": {},
   "outputs": [],
   "source": [
    "load_to_csv(df1, output_path)"
   ]
  },
  {
   "cell_type": "markdown",
   "metadata": {},
   "source": [
    "### **Task 5:**\n",
    "Load the transformed dataframe to an SQL database server as a table. Write a function <code>load_to_db()</code>, execute a function call and verify the output."
   ]
  },
  {
   "cell_type": "code",
   "execution_count": 10,
   "metadata": {},
   "outputs": [],
   "source": [
    "def load_to_db(df, sql_connection, table_name):\n",
    "    ''' This function saves the final data frame to a database\n",
    "    table with the provided name. Function returns nothing.'''\n",
    "\n",
    "    \n",
    "    df.to_sql(table_name, sql_connection, if_exists='replace', index=False)\n",
    "    sql_connection.close()\n",
    "    "
   ]
  },
  {
   "cell_type": "code",
   "execution_count": 11,
   "metadata": {},
   "outputs": [],
   "source": [
    "conn = sqlite3.connect(db_name)\n",
    "load_to_db(df1,conn, table_name)"
   ]
  },
  {
   "cell_type": "markdown",
   "metadata": {},
   "source": [
    "### **Task 6:**\n",
    "Run queries on the database table. Write a function <code>load_to_db()</code>, execute a given set of queries and verify the output."
   ]
  },
  {
   "cell_type": "code",
   "execution_count": 12,
   "metadata": {},
   "outputs": [],
   "source": [
    "def run_query(query_statement):\n",
    "    ''' This function runs the query on the database table and\n",
    "    prints the output on the terminal. Function returns nothing. '''\n",
    "\n",
    "    conn = sqlite3.connect(db_name)\n",
    "    cursor = conn.cursor()\n",
    "    cursor.execute(query_statement)\n",
    "    x = cursor.fetchall()\n",
    "    conn.commit()\n",
    "    conn.close()\n",
    "    result = pd.DataFrame(x, columns=[\"#\",\"Name\",\"MC_USD_Billion\",\"MC_EUR_Billion\",\"MC_INR_Billion\"])\n",
    "    print(result)\n"
   ]
  },
  {
   "cell_type": "markdown",
   "metadata": {},
   "source": [
    "### **Task 7:**\n",
    "Verify that the log entries have been completed at all stages by checking the contents of the file <code>code_log.txt</code>."
   ]
  },
  {
   "cell_type": "code",
   "execution_count": 13,
   "metadata": {},
   "outputs": [
    {
     "name": "stdout",
     "output_type": "stream",
     "text": [
      "2024-May-18-14:10:19, ETL Job Started\n",
      "\n",
      "2024-May-18-14:10:19, Extract phase Started\n",
      "\n",
      "2024-May-18-14:10:20, Extract phase Ended\n",
      "\n",
      "2024-May-18-14:10:20, Transform phase Started\n",
      "\n",
      "2024-May-18-14:10:20, Transform phase Ended\n",
      "\n",
      "2024-May-18-14:10:20, Load phase Started\n",
      "\n",
      "2024-May-18-14:10:20, Load phase Ended\n",
      "\n",
      "2024-May-18-14:10:20, Access SQL Program\n",
      "\n"
     ]
    }
   ],
   "source": [
    "''' Here, you define the required entities and call the relevant\n",
    "functions in the correct order to complete the project. Note that this\n",
    "portion is not inside any function.'''\n",
    "\n",
    "log_progress(\"ETL Job Started\")\n",
    "\n",
    "# Extracting the data\n",
    "log_progress(\"Extract phase Started\")\n",
    "extracted_data = extract(url,table_attribs)\n",
    "log_progress(\"Extract phase Ended\")\n",
    "\n",
    "# Transforming the data\n",
    "log_progress(\"Transform phase Started\")\n",
    "transformed_data = transform(extracted_data, ex_path)\n",
    "log_progress(\"Transform phase Ended\")\n",
    "\n",
    "# Loading data to csv\n",
    "log_progress(\"Load phase Started\")\n",
    "load_to_csv(transformed_data, output_path)\n",
    "load_to_db(transformed_data, conn, table_name)\n",
    "log_progress(\"Load phase Ended\")\n",
    "\n",
    "# Running SQL query\n",
    "log_progress(\"Access SQL Program\")\n",
    "\n",
    "xx = 'y'\n",
    "while xx == 'y':\n",
    "    xx = input(\"Do you want to Run SQL Query?(y/n): \").lower()\n",
    "    if xx == \"y\":\n",
    "        query = input(\"Please Enter the Query Statment: \") \n",
    "        run_query(query)\n",
    "        continue\n",
    "    elif xx == \"n\":\n",
    "        break\n",
    "    else:\n",
    "        print(\"Wrong Input!! Please answer y/n\")\n",
    "        xx=\"y\"\n",
    "        continue     \n",
    "\n",
    "log_progress(\"Close SQL Program\")\n",
    "\n",
    "log_progress(\"ETL Job Ended\")"
   ]
  }
 ],
 "metadata": {
  "kernelspec": {
   "display_name": "Python 3.9",
   "language": "python",
   "name": "python3"
  },
  "language_info": {
   "codemirror_mode": {
    "name": "ipython",
    "version": 3
   },
   "file_extension": ".py",
   "mimetype": "text/x-python",
   "name": "python",
   "nbconvert_exporter": "python",
   "pygments_lexer": "ipython3",
   "version": "3.11.5"
  }
 },
 "nbformat": 4,
 "nbformat_minor": 4
}
